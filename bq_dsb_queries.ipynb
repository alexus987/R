{
  "nbformat": 4,
  "nbformat_minor": 0,
  "metadata": {
    "colab": {
      "name": "bq_DSB_queries",
      "provenance": [],
      "collapsed_sections": [
        "70u4xD9ZTYwZ",
        "rd83bqO6CF12"
      ],
      "toc_visible": true,
      "include_colab_link": true
    },
    "kernelspec": {
      "display_name": "Python 3",
      "name": "python3"
    }
  },
  "cells": [
    {
      "cell_type": "markdown",
      "metadata": {
        "id": "view-in-github",
        "colab_type": "text"
      },
      "source": [
        "<a href=\"https://colab.research.google.com/github/alexus987/R/blob/master/bq_dsb_queries.ipynb\" target=\"_parent\"><img src=\"https://colab.research.google.com/assets/colab-badge.svg\" alt=\"Open In Colab\"/></a>"
      ]
    },
    {
      "cell_type": "markdown",
      "metadata": {
        "colab_type": "text",
        "id": "5fCEDCU_qrC0"
      },
      "source": [
        "<p><img alt=\"Colaboratory logo\" height=\"45px\" src=\"https://colab.research.google.com/img/colab_favicon.ico\" align=\"left\" hspace=\"10px\" vspace=\"0px\"></p>\n",
        "\n",
        "<h1>Data Insights to DSB BigQuery copy</h1>\n"
      ]
    },
    {
      "cell_type": "markdown",
      "metadata": {
        "id": "BksBuinLTdSR",
        "colab_type": "text"
      },
      "source": [
        "[link text](https://) yoyo"
      ]
    },
    {
      "cell_type": "markdown",
      "metadata": {
        "id": "70u4xD9ZTYwZ",
        "colab_type": "text"
      },
      "source": [
        "# Authenticate"
      ]
    },
    {
      "cell_type": "code",
      "metadata": {
        "id": "EQwXTBrCTkBH",
        "colab_type": "code",
        "outputId": "6f9b85e9-566b-49a6-d877-dd5abb7ba6d1",
        "colab": {
          "base_uri": "https://localhost:8080/",
          "height": 34
        }
      },
      "source": [
        "from google.colab import auth\n",
        "auth.authenticate_user()\n",
        "print('Authenticated')"
      ],
      "execution_count": 1,
      "outputs": [
        {
          "output_type": "stream",
          "text": [
            "Authenticated\n"
          ],
          "name": "stdout"
        }
      ]
    },
    {
      "cell_type": "markdown",
      "metadata": {
        "id": "Z-71kZ1AVzRy",
        "colab_type": "text"
      },
      "source": [
        "# BQ Operations"
      ]
    },
    {
      "cell_type": "markdown",
      "metadata": {
        "id": "O2Kbm3gGyCpR",
        "colab_type": "text"
      },
      "source": [
        "Copy all tables of a dataset"
      ]
    },
    {
      "cell_type": "code",
      "metadata": {
        "id": "bmQMocL6V3NM",
        "colab_type": "code",
        "colab": {
          "base_uri": "https://localhost:8080/",
          "height": 1000
        },
        "outputId": "57324167-15f1-4540-81d6-829fa312e231"
      },
      "source": [
        "tables = !bq --project='telia-ddi-dk-dev' ls 'telia-ddi-dk-dev:alexey' | awk '{print $1}'\n",
        "tables.pop(0)\n",
        "tables.pop(0)\n",
        "\n",
        "for table in tables:\n",
        "  print('Copying table: '+table)\n",
        "  !bq --project='telia-ddi-dk-dev' cp -f 'telia-ddi-dk-dev:alexey.$table' 'apollo-dsb:odm.$table'\n",
        "\n",
        "print(' ')\n",
        "!bq --project='telia-ddi-dk-dev' --format=pretty ls 'apollo-dsb:odm'"
      ],
      "execution_count": 15,
      "outputs": [
        {
          "output_type": "stream",
          "text": [
            "Copying table: 1hourly_odm_ltm_mixed\n",
            "Waiting on bqjob_r1a1c2e254bf07257_0000016e4b98b08f_1 ... (0s) Current status: DONE   \n",
            "Table 'telia-ddi-dk-dev:alexey.1hourly_odm_ltm_mixed' successfully copied to 'apollo-dsb:odm.1hourly_odm_ltm_mixed'\n",
            "Copying table: 1hourly_odm_ltm_oal2_dal2\n",
            "Waiting on bqjob_r3cfc44626b294f50_0000016e4b98c55f_1 ... (0s) Current status: DONE   \n",
            "Table 'telia-ddi-dk-dev:alexey.1hourly_odm_ltm_oal2_dal2' successfully copied to 'apollo-dsb:odm.1hourly_odm_ltm_oal2_dal2'\n",
            "Copying table: 1hourly_via_via_ltm2_20190801_agg3_via4\n",
            "Waiting on bqjob_r6693e3fab731aa69_0000016e4b98d659_1 ... (0s) Current status: DONE   \n",
            "Table 'telia-ddi-dk-dev:alexey.1hourly_via_via_ltm2_20190801_agg3_via4' successfully copied to 'apollo-dsb:odm.1hourly_via_via_ltm2_20190801_agg3_via4'\n",
            "Copying table: 1hourly_via_via_mixed_20190801_agg3_via4\n",
            "Waiting on bqjob_r64a368e83f06017a_0000016e4b98e72b_1 ... (0s) Current status: DONE   \n",
            "Table 'telia-ddi-dk-dev:alexey.1hourly_via_via_mixed_20190801_agg3_via4' successfully copied to 'apollo-dsb:odm.1hourly_via_via_mixed_20190801_agg3_via4'\n",
            "Copying table: 1hourly_wodm_line_ltm2_20190801_agg3_via3\n",
            "Waiting on bqjob_r5fea6b96d1c94d84_0000016e4b98f7ac_1 ... (0s) Current status: DONE   \n",
            "Table 'telia-ddi-dk-dev:alexey.1hourly_wodm_line_ltm2_20190801_agg3_via3' successfully copied to 'apollo-dsb:odm.1hourly_wodm_line_ltm2_20190801_agg3_via3'\n",
            "Copying table: 1hourly_wodm_line_mixed_20190801_agg3_via3\n",
            "Waiting on bqjob_r400b2c4357e777d3_0000016e4b990878_1 ... (0s) Current status: DONE   \n",
            "Table 'telia-ddi-dk-dev:alexey.1hourly_wodm_line_mixed_20190801_agg3_via3' successfully copied to 'apollo-dsb:odm.1hourly_wodm_line_mixed_20190801_agg3_via3'\n",
            "Copying table: 24hourly_odm_ltm_mixed\n",
            "Waiting on bqjob_r3346ec5b1e0ebfc8_0000016e4b99185e_1 ... (0s) Current status: DONE   \n",
            "Table 'telia-ddi-dk-dev:alexey.24hourly_odm_ltm_mixed' successfully copied to 'apollo-dsb:odm.24hourly_odm_ltm_mixed'\n",
            "Copying table: 24hourly_odm_ltm_oal2_dal2\n",
            "Waiting on bqjob_r41ca82f626da37e3_0000016e4b992864_1 ... (0s) Current status: DONE   \n",
            "Table 'telia-ddi-dk-dev:alexey.24hourly_odm_ltm_oal2_dal2' successfully copied to 'apollo-dsb:odm.24hourly_odm_ltm_oal2_dal2'\n",
            "Copying table: 24hourly_via_via_ltm2_20190801_agg3_via4\n",
            "Waiting on bqjob_r7d53045ade40c98_0000016e4b993996_1 ... (0s) Current status: DONE   \n",
            "Table 'telia-ddi-dk-dev:alexey.24hourly_via_via_ltm2_20190801_agg3_via4' successfully copied to 'apollo-dsb:odm.24hourly_via_via_ltm2_20190801_agg3_via4'\n",
            "Copying table: 24hourly_via_via_mixed_20190801_agg3_via4\n",
            "Waiting on bqjob_r3651a60be1d3a8e2_0000016e4b994c2d_1 ... (0s) Current status: DONE   \n",
            "Table 'telia-ddi-dk-dev:alexey.24hourly_via_via_mixed_20190801_agg3_via4' successfully copied to 'apollo-dsb:odm.24hourly_via_via_mixed_20190801_agg3_via4'\n",
            "Copying table: 24hourly_wodm_line_ltm2_20190801_agg3_via3\n",
            "Waiting on bqjob_r714dd85a66f5542d_0000016e4b995cc8_1 ... (0s) Current status: DONE   \n",
            "Table 'telia-ddi-dk-dev:alexey.24hourly_wodm_line_ltm2_20190801_agg3_via3' successfully copied to 'apollo-dsb:odm.24hourly_wodm_line_ltm2_20190801_agg3_via3'\n",
            "Copying table: 24hourly_wodm_line_mixed_20190801_agg3_via3\n",
            "Waiting on bqjob_r763e72c82ed32ac1_0000016e4b996d40_1 ... (0s) Current status: DONE   \n",
            "Table 'telia-ddi-dk-dev:alexey.24hourly_wodm_line_mixed_20190801_agg3_via3' successfully copied to 'apollo-dsb:odm.24hourly_wodm_line_mixed_20190801_agg3_via3'\n",
            "Copying table: dk_ltm_mixed_uid\n",
            "Waiting on bqjob_rdb7c04319cf82fd_0000016e4b998240_1 ... (0s) Current status: DONE   \n",
            "Table 'telia-ddi-dk-dev:alexey.dk_ltm_mixed_uid' successfully copied to 'apollo-dsb:odm.dk_ltm_mixed_uid'\n",
            "Copying table: via_points_kit_stretches_v3\n",
            "Waiting on bqjob_r7f44e5f1082e9d08_0000016e4b999249_1 ... (0s) Current status: DONE   \n",
            "Table 'telia-ddi-dk-dev:alexey.via_points_kit_stretches_v3' successfully copied to 'apollo-dsb:odm.via_points_kit_stretches_v3'\n",
            "Copying table: via_via_points_kit_stretches_A1_v4\n",
            "Waiting on bqjob_r73fb981fff363aaa_0000016e4b99a24c_1 ... (0s) Current status: DONE   \n",
            "Table 'telia-ddi-dk-dev:alexey.via_via_points_kit_stretches_A1_v4' successfully copied to 'apollo-dsb:odm.via_via_points_kit_stretches_A1_v4'\n",
            " \n",
            "+---------------------------------------------+-------+--------+-------------------+------------------+\n",
            "|                   tableId                   | Type  | Labels | Time Partitioning | Clustered Fields |\n",
            "+---------------------------------------------+-------+--------+-------------------+------------------+\n",
            "| 1hourly_odm_ltm_mixed                       | TABLE |        |                   |                  |\n",
            "| 1hourly_odm_ltm_oal2_dal2                   | TABLE |        |                   |                  |\n",
            "| 1hourly_via_via_ltm2_20190801_agg3_via4     | TABLE |        |                   |                  |\n",
            "| 1hourly_via_via_mixed_20190801_agg3_via4    | TABLE |        |                   |                  |\n",
            "| 1hourly_wodm_line_ltm2_20190801_agg3_via3   | TABLE |        |                   |                  |\n",
            "| 1hourly_wodm_line_mixed_20190801_agg3_via3  | TABLE |        |                   |                  |\n",
            "| 24hourly_odm_ltm_mixed                      | TABLE |        |                   |                  |\n",
            "| 24hourly_odm_ltm_oal2_dal2                  | TABLE |        |                   |                  |\n",
            "| 24hourly_via_via_ltm2_20190801_agg3_via4    | TABLE |        |                   |                  |\n",
            "| 24hourly_via_via_mixed_20190801_agg3_via4   | TABLE |        |                   |                  |\n",
            "| 24hourly_wodm_line_ltm2_20190801_agg3_via3  | TABLE |        |                   |                  |\n",
            "| 24hourly_wodm_line_mixed_20190801_agg3_via3 | TABLE |        |                   |                  |\n",
            "| dk_ltm_mixed                                | TABLE |        |                   |                  |\n",
            "| dk_ltm_mixed_uid                            | TABLE |        |                   |                  |\n",
            "| via_points_kit_stretches_v3                 | TABLE |        |                   |                  |\n",
            "| via_via_points_kit_stretches_A1_v4          | TABLE |        |                   |                  |\n",
            "+---------------------------------------------+-------+--------+-------------------+------------------+\n"
          ],
          "name": "stdout"
        }
      ]
    },
    {
      "cell_type": "markdown",
      "metadata": {
        "id": "n32OjtoCyIq5",
        "colab_type": "text"
      },
      "source": [
        "Copy one table"
      ]
    },
    {
      "cell_type": "code",
      "metadata": {
        "id": "Tay2yNOKyKTI",
        "colab_type": "code",
        "colab": {}
      },
      "source": [
        "!bq --project=telia-ddi-dk-dev cp -f 'telia-ddi-dk-dev:DSB_export.1hourly_odm_ltm_oal4_dal4' 'apollo-dsb:odm.1hourly_odm_ltm_oal4_dal4'"
      ],
      "execution_count": 0,
      "outputs": []
    },
    {
      "cell_type": "markdown",
      "metadata": {
        "id": "Rp3VltTaqt7q",
        "colab_type": "text"
      },
      "source": [
        "Delete tables from Dataset"
      ]
    },
    {
      "cell_type": "code",
      "metadata": {
        "id": "tc9Zi3l_qxOD",
        "colab_type": "code",
        "colab": {
          "base_uri": "https://localhost:8080/",
          "height": 799
        },
        "outputId": "4a16471c-a614-4500-d37f-d68de4ba82e1"
      },
      "source": [
        "tables = !bq --project='telia-ddi-dk-dev' ls 'apollo-dsb:odm' | awk '{print $1}'\n",
        "tables.pop(0)\n",
        "tables.pop(0)\n",
        "\n",
        "for table in tables:\n",
        "  if table != 'dk_ltm_mixed':\n",
        "    print('Deleting table: '+table)\n",
        "    !bq --project='telia-ddi-dk-dev' rm -f -t 'apollo-dsb:odm.$table'\n",
        "\n",
        "print(' ')\n",
        "!bq --project='telia-ddi-dk-dev' --format=pretty ls 'apollo-dsb:odm'"
      ],
      "execution_count": 14,
      "outputs": [
        {
          "output_type": "stream",
          "text": [
            "Deleting table: 05hourly2_odm_ltm_mixed_20190801\n",
            "Deleting table: 05hourly2_odm_ltm_mixed_20190801_start_time_only\n",
            "Deleting table: 05hourly2_odm_ltm_oal4_dal4_20190801\n",
            "Deleting table: 05hourly_wodm_line_mixed_20190801\n",
            "Deleting table: 05hourly_wodm_line_mixed_20190801_agg2_via3\n",
            "Deleting table: 05hourly_wodm_line_mixed_20190801_agg2_via4\n",
            "Deleting table: 12hourly2_odm_ltm_mixed_20190801\n",
            "Deleting table: 12hourly2_odm_ltm_oal4_dal4_20190801\n",
            "Deleting table: 12hourly_wodm_line_mixed_20190801\n",
            "Deleting table: 12hourly_wodm_line_mixed_20190801_agg2_via3\n",
            "Deleting table: 12hourly_wodm_line_mixed_20190801_agg2_via4\n",
            "Deleting table: 1hourly_odm_ltm_mixed\n",
            "Deleting table: 1hourly_odm_ltm_mixed_20190801_start_time_only\n",
            "Deleting table: 1hourly_odm_ltm_oal4_dal4\n",
            "Deleting table: 1hourly_wodm_line_mixed_20190801\n",
            "Deleting table: 1hourly_wodm_line_mixed_20190801_agg2_v4\n",
            "Deleting table: 1hourly_wodm_line_mixed_20190801_agg2_via3\n",
            "Deleting table: 1hourly_wodm_line_mixed_20190801_agg2_via4\n",
            "Deleting table: 1hourly_wodm_line_mixed_20190801_agg3_via3\n",
            "Deleting table: 1hourly_wodm_line_mixed_20190801_old_extr\n",
            "Deleting table: 24hourly_odm_ltm_mixed\n",
            "Deleting table: 24hourly_odm_ltm_oal4_dal4\n",
            "Deleting table: 24hourly_wodm_line_mixed_20190801\n",
            "Deleting table: 24hourly_wodm_line_mixed_20190801_agg2_v4\n",
            "Deleting table: 24hourly_wodm_line_mixed_20190801_agg2_via3\n",
            "Deleting table: 24hourly_wodm_line_mixed_20190801_agg2_via4\n",
            "Deleting table: 2hourly2_odm_ltm_mixed_20190801\n",
            "Deleting table: 2hourly_wodm_line_mixed_20190801\n",
            "Deleting table: 2hourly_wodm_line_mixed_20190801_agg2_via3\n",
            "Deleting table: 2hourly_wodm_line_mixed_20190801_agg2_via4\n",
            "Deleting table: 4hourly2_odm_ltm_mixed_20190801\n",
            "Deleting table: 4hourly2_odm_ltm_oal4_dal4_20190801\n",
            "Deleting table: 4hourly_wodm_line_mixed_20190801\n",
            "Deleting table: 4hourly_wodm_line_mixed_20190801_agg2_via3\n",
            "Deleting table: 4hourly_wodm_line_mixed_20190801_agg2_via4\n",
            "Deleting table: TEST_apirrott\n",
            "Deleting table: dk_ltm_mixed_uid\n",
            "Deleting table: via_points_kit_stretches_v3\n",
            "Deleting table: via_via_points_kit_stretches_A1\n",
            "Deleting table: via_via_points_kit_stretches_A1_v4\n",
            " \n",
            "+--------------+-------+--------+-------------------+------------------+\n",
            "|   tableId    | Type  | Labels | Time Partitioning | Clustered Fields |\n",
            "+--------------+-------+--------+-------------------+------------------+\n",
            "| dk_ltm_mixed | TABLE |        |                   |                  |\n",
            "+--------------+-------+--------+-------------------+------------------+\n"
          ],
          "name": "stdout"
        }
      ]
    },
    {
      "cell_type": "markdown",
      "metadata": {
        "id": "TYuuGPmt9zTm",
        "colab_type": "text"
      },
      "source": [
        "# Re-Generate maps\n"
      ]
    },
    {
      "cell_type": "code",
      "metadata": {
        "id": "yWeXGG43Igh2",
        "colab_type": "code",
        "colab": {
          "base_uri": "https://localhost:8080/",
          "height": 34
        },
        "outputId": "2f1dba4f-e3dd-4190-c87e-515952bff3e8"
      },
      "source": [
        "!bq load --autodetect --replace DSB_import.via_points_kit_stretches_v3 gs://telia-ddi-dk-dev-dsb-reference/via_points_kit_stretches_v3.34.csv"
      ],
      "execution_count": 8,
      "outputs": [
        {
          "output_type": "stream",
          "text": [
            "Waiting on bqjob_r5acc5636da6e822e_0000016e4b2e8bc9_1 ... (3s) Current status: DONE   \n"
          ],
          "name": "stdout"
        }
      ]
    },
    {
      "cell_type": "code",
      "metadata": {
        "id": "bPSwDWmS-Il9",
        "colab_type": "code",
        "outputId": "2a652eaa-d72e-4f04-f65e-f288e914f239",
        "colab": {
          "base_uri": "https://localhost:8080/",
          "height": 32
        }
      },
      "source": [
        "%%bigquery --project=telia-ddi-dk-dev  \n",
        "CREATE OR REPLACE TABLE  `telia-ddi-dk-dev.DSB_export.via_points_kit_stretches_v3` AS\n",
        "\tSELECT\n",
        "\tv.StretchIdentifier,\n",
        "\tv.FirstStation,\n",
        "\tv.LastStation,\n",
        "\tST_GEOGPOINT(v.lon_1 , v.lat_1) as StartPoint,\n",
        "\tST_GEOGPOINT(v.lon_2 , v.lat_2) as FinishPoint,\n",
        "\tST_MAKELINE(ST_GEOGPOINT(v.lon_1 , v.lat_1), ST_GEOGPOINT(v.lon_2 , v.lat_2)) as ViaLine,\n",
        "\tST_DISTANCE(ST_GEOGPOINT(v.lon_1 , v.lat_1), ST_GEOGPOINT(v.lon_2 , v.lat_2)) as ViaLine_Distance  \n",
        "FROM `DSB_import.via_points_kit_stretches_v3` v"
      ],
      "execution_count": 9,
      "outputs": [
        {
          "output_type": "execute_result",
          "data": {
            "text/html": [
              "<div>\n",
              "<style scoped>\n",
              "    .dataframe tbody tr th:only-of-type {\n",
              "        vertical-align: middle;\n",
              "    }\n",
              "\n",
              "    .dataframe tbody tr th {\n",
              "        vertical-align: top;\n",
              "    }\n",
              "\n",
              "    .dataframe thead th {\n",
              "        text-align: right;\n",
              "    }\n",
              "</style>\n",
              "<table border=\"1\" class=\"dataframe\">\n",
              "  <thead>\n",
              "    <tr style=\"text-align: right;\">\n",
              "      <th></th>\n",
              "    </tr>\n",
              "  </thead>\n",
              "  <tbody>\n",
              "  </tbody>\n",
              "</table>\n",
              "</div>"
            ],
            "text/plain": [
              "Empty DataFrame\n",
              "Columns: []\n",
              "Index: []"
            ]
          },
          "metadata": {
            "tags": []
          },
          "execution_count": 9
        }
      ]
    },
    {
      "cell_type": "markdown",
      "metadata": {
        "id": "vUK27sAnATHx",
        "colab_type": "text"
      },
      "source": [
        "# Re-Generate ODMs"
      ]
    },
    {
      "cell_type": "code",
      "metadata": {
        "id": "RE_b3cXIAPvM",
        "colab_type": "code",
        "colab": {
          "base_uri": "https://localhost:8080/",
          "height": 32
        },
        "outputId": "765e1e48-6822-4305-f557-7b952ebb09ab"
      },
      "source": [
        "# 1hourly ODM Via\n",
        "\n",
        "%%bigquery --project=telia-ddi-dk-dev  \n",
        "create or replace table `alexey.1hourly_wodm_line_mixed_20190801_agg3_via3` as\n",
        "--create or replace table `apollo-dsb.odm.1hourly_wodm_line_mixed_20190801_agg3_via3` as\n",
        "--create or replace table `DSB_export.1hourly_wodm_line_mixed_20190801_agg3_via3` as\n",
        "--create or replace table `mobility_insights.1hourly_wodm_line_mixed_20190801_agg3_via3` as\n",
        "\n",
        "\n",
        "WITH transits AS (\n",
        "  SELECT\n",
        "    t.transit_id,\n",
        "    t.identifier,\n",
        "    go.code AS origin_area_code,\n",
        "    gd.code AS destination_area_code,\n",
        "    vp.StretchIdentifier ,\n",
        "    TIMESTAMP_TRUNC(t.start_time, HOUR) AS transit_start_hour,\n",
        "    DATETIME_TRUNC(t.local_start_time, HOUR) AS transit_local_start_hour,\n",
        "    TIMESTAMP_TRUNC(t.end_time, HOUR) AS transit_end_hour,\n",
        "    DATETIME_TRUNC(t.local_end_time, HOUR) AS transit_local_end_hour\n",
        "  FROM `telia-ddi-dk-prod.mobility_signals.transits_20190801` t\n",
        "  INNER JOIN `telia-ddi-dk-prod.mobility_signals.quality_tiers_20190801` tier ON t.identifier = tier.identifier\n",
        "  INNER JOIN `telia-ddi-dk-dev.david.dk_ltm_mixed`  go ON st_covers(go.geo, t.origin_point)\n",
        "  INNER JOIN `telia-ddi-dk-dev.david.dk_ltm_mixed`  gd ON st_covers(gd.geo, t.destination_point )\n",
        "  INNER JOIN `DSB_export.via_points_kit_stretches_v3` vp \n",
        "    ON ST_INTERSECTS(t.line, vp.ViaLine )\n",
        "  WHERE tier.rating != \"C\"\n",
        "  # Filter out transits with low density\n",
        "  #AND (IFNULL(num_clusters_in_transit, 0) + 2) / (duration /60 /60) >= 6 \n",
        ")\n",
        ", ex_customers AS (\n",
        "  SELECT\n",
        "    (1 / p_observation) * m_cluster_adjuster * m_device_reducer AS m_customers\n",
        "  FROM `telia-ddi-dk-prod.extrapolation.signal_probabilities_day_20190801`\n",
        ")\n",
        ", ex_identifier AS (\n",
        "  SELECT\n",
        "    identifier,\n",
        "    observed_market_share\n",
        "  FROM `telia-ddi-dk-prod.mobility_signals.areas_of_habit_20190801` h\n",
        "  INNER JOIN `telia-ddi-dk-prod.maps.administrative_level_4` ma ON ST_CONTAINS(ma.geo, h.point)\n",
        "  INNER JOIN `telia-ddi-dk-prod.extrapolation.administrative_level_3_baseline_market_share` ms ON ms.admin_level_3_code = ma.admin_level_3_code\n",
        "  WHERE\n",
        "    h.aoh_classification = 'HOME'\n",
        ")\n",
        "# New p_quality_transit\n",
        ", ex_transit AS (\n",
        "  SELECT\n",
        "    EXTRACT(hour FROM start_time) AS start_hour,\n",
        "    1 / (COUNT(DISTINCT CASE WHEN (IFNULL(num_clusters_in_transit, 0) + 2) / (duration /60 /60) >= 6 THEN identifier ELSE NULL END) / COUNT(DISTINCT identifier)) AS m_quality_transits\n",
        "  FROM `telia-ddi-dk-prod.mobility_signals.transits_20190902`\n",
        "  INNER JOIN `telia-ddi-dk-prod.mobility_signals.quality_tiers_20190902` USING(identifier) \n",
        "  WHERE rating != 'C'\n",
        "  GROUP BY\n",
        "    start_hour\n",
        "  ORDER BY \n",
        "    start_hour\n",
        ")\n",
        ", ex_transits_num AS (\n",
        "  SELECT\n",
        "    origin_area_code,\n",
        "    --derived_waypoint_grid_code,\n",
        "    StretchIdentifier ,\n",
        "    destination_area_code,\n",
        "    transit_start_hour,\n",
        "    transit_local_start_hour,\n",
        "    transit_end_hour ,\n",
        "    transit_local_end_hour,\n",
        "    COUNT(*) AS devices,\n",
        "    CAST(ROUND(COUNT(*) * ANY_VALUE(m_customers)) AS INT64) AS customers,\n",
        "    # inflated \"raw\" number,\n",
        "    CAST(ROUND(COUNT(*) * ANY_VALUE(m_customers) * ANY_VALUE(m_quality_transits)) AS INT64) AS new_customers,\n",
        "    CAST(ROUND(SUM((1/observed_market_share) * m_customers)) AS INT64) AS people,\n",
        "    # inflated people number\n",
        "    CAST(ROUND(SUM((1/observed_market_share) * m_customers * m_quality_transits)) AS INT64) AS new_people\n",
        "  FROM transits t, ex_customers \n",
        "  LEFT JOIN ex_identifier i\n",
        "    ON i.identifier = t.identifier\n",
        "  LEFT JOIN ex_transit\n",
        "    ON extract(hour from t.transit_start_hour) = ex_transit.start_hour \n",
        "  GROUP BY\n",
        "    origin_area_code,\n",
        "    --derived_waypoint_grid_code,\n",
        "    destination_area_code,\n",
        "    StretchIdentifier,\n",
        "    transit_start_hour,\n",
        "    transit_local_start_hour,\n",
        "    transit_end_hour,\n",
        "    transit_local_end_hour\n",
        "  HAVING\n",
        "    SUM((1/observed_market_share) * m_customers) >= 0\n",
        ")\n",
        "SELECT\n",
        "   n.origin_area_code,\n",
        "  -- n.derived_waypoint_grid_code,\n",
        "   n.StretchIdentifier,\n",
        "   n.destination_area_code,\n",
        "   n.transit_start_hour,\n",
        "   n.transit_local_start_hour,\n",
        "   n.transit_end_hour,\n",
        "   n.transit_local_end_hour,\n",
        "   --CAST(ROUND(n.devices, 0) AS INT64)       AS devices,\n",
        "   --CAST(ROUND(n.customers, 0) AS INT64)     AS customers,\n",
        "   --CAST(ROUND(n.new_customers, 0) AS INT64) AS new_customers,\n",
        "   --CAST(ROUND(n.people, 0) AS INT64)        AS people,\n",
        "   CAST(ROUND(n.new_people, 0) AS INT64)    AS people\n",
        "FROM ex_transits_num n\n",
        "WHERE n.new_people > 5\n",
        "    \n",
        "     \n"
      ],
      "execution_count": 13,
      "outputs": [
        {
          "output_type": "execute_result",
          "data": {
            "text/html": [
              "<div>\n",
              "<style scoped>\n",
              "    .dataframe tbody tr th:only-of-type {\n",
              "        vertical-align: middle;\n",
              "    }\n",
              "\n",
              "    .dataframe tbody tr th {\n",
              "        vertical-align: top;\n",
              "    }\n",
              "\n",
              "    .dataframe thead th {\n",
              "        text-align: right;\n",
              "    }\n",
              "</style>\n",
              "<table border=\"1\" class=\"dataframe\">\n",
              "  <thead>\n",
              "    <tr style=\"text-align: right;\">\n",
              "      <th></th>\n",
              "    </tr>\n",
              "  </thead>\n",
              "  <tbody>\n",
              "  </tbody>\n",
              "</table>\n",
              "</div>"
            ],
            "text/plain": [
              "Empty DataFrame\n",
              "Columns: []\n",
              "Index: []"
            ]
          },
          "metadata": {
            "tags": []
          },
          "execution_count": 13
        }
      ]
    },
    {
      "cell_type": "code",
      "metadata": {
        "id": "--TxttpiGcgP",
        "colab_type": "code",
        "colab": {
          "base_uri": "https://localhost:8080/",
          "height": 32
        },
        "outputId": "4ae2e7bf-e339-44ae-bfb9-1a361aa074e1"
      },
      "source": [
        "# 24H Via  \n",
        "\n",
        "%%bigquery --project=telia-ddi-dk-dev \n",
        "\n",
        "--create or replace table `mobility_insights.24hourly_wodm_line_mixed_20190801_agg2_via3` as --non_extr\n",
        "create or replace table `alexey.24hourly_wodm_line_mixed_20190801_agg3_via3` as\n",
        "--create or replace table `apollo-dsb.odm.24hourly_wodm_line_mixed_20190801_agg2_via3` as\n",
        "\n",
        "WITH transits AS (\n",
        "  SELECT\n",
        "    t.transit_id,\n",
        "    t.identifier,\n",
        "    go.code AS origin_area_code,\n",
        "    gd.code AS destination_area_code,\n",
        "    vp.StretchIdentifier ,\n",
        "    TIMESTAMP_TRUNC(start_time, DAY) AS utc_day\n",
        "  FROM `telia-ddi-dk-prod.mobility_signals.transits_20190801` t\n",
        "  INNER JOIN `telia-ddi-dk-prod.mobility_signals.quality_tiers_20190801` tier ON t.identifier = tier.identifier\n",
        "  INNER JOIN `telia-ddi-dk-dev.david.dk_ltm_mixed`  go ON st_covers(go.geo, t.origin_point)\n",
        "  INNER JOIN `telia-ddi-dk-dev.david.dk_ltm_mixed`  gd ON st_covers(gd.geo, t.destination_point )\n",
        "  INNER JOIN `DSB_export.via_points_kit_stretches_v3` vp \n",
        "    ON ST_INTERSECTS(t.line, vp.ViaLine )  WHERE tier.rating != \"C\"\n",
        ")\n",
        ", ex_customers AS (\n",
        "  SELECT\n",
        "    (1 / p_observation) * m_cluster_adjuster * m_device_reducer AS m_customers\n",
        "  FROM `telia-ddi-dk-prod.extrapolation.signal_probabilities_day_20190801`\n",
        ")\n",
        "\n",
        "# New p_quality_transit\n",
        ", ex_transit_hourly AS (\n",
        "  SELECT\n",
        "    EXTRACT(hour FROM start_time) AS start_hour,\n",
        "    1 / (COUNT(DISTINCT CASE WHEN (IFNULL(num_clusters_in_transit, 0) + 2) / (duration /60 /60) >= 6 THEN identifier ELSE NULL END) / COUNT(DISTINCT identifier)) AS m_quality_transits\n",
        "  FROM `telia-ddi-dk-prod.mobility_signals.transits_20190902`\n",
        "  INNER JOIN `telia-ddi-dk-prod.mobility_signals.quality_tiers_20190902` USING(identifier) \n",
        "  WHERE rating != 'C'\n",
        "  GROUP BY\n",
        "    start_hour\n",
        "  ORDER BY \n",
        "    start_hour\n",
        ")\n",
        "\n",
        ", ex_transit as (\n",
        "SELECT \n",
        "AVG(m_quality_transits) as m_quality_transits\n",
        "from ex_transit_hourly\n",
        ")\n",
        "\n",
        ", ex_identifier AS (\n",
        "  SELECT\n",
        "    identifier,\n",
        "    observed_market_share\n",
        "  FROM `telia-ddi-dk-prod.mobility_signals.areas_of_habit_20190801` h\n",
        "  INNER JOIN `telia-ddi-dk-prod.maps.administrative_level_4` ma ON ST_CONTAINS(ma.geo, h.point)\n",
        "  INNER JOIN `telia-ddi-dk-prod.extrapolation.administrative_level_3_baseline_market_share` ms ON ms.admin_level_3_code = ma.admin_level_3_code\n",
        "  WHERE\n",
        "    h.aoh_classification = 'HOME'\n",
        ")\n",
        ", ex_transits_num AS (\n",
        "  SELECT\n",
        "    origin_area_code,\n",
        "    utc_day,\n",
        "    StretchIdentifier ,\n",
        "    destination_area_code,\n",
        "    COUNT(*) AS devices,\n",
        "    CAST(ROUND(COUNT(*) * ANY_VALUE(m_customers)) AS INT64) AS customers,\n",
        "    # inflated \"raw\" number,\n",
        "    CAST(ROUND(COUNT(*) * ANY_VALUE(m_customers) * ANY_VALUE(m_quality_transits)) AS INT64) AS new_customers,\n",
        "    CAST(ROUND(SUM((1/observed_market_share) * m_customers)) AS INT64) AS people,\n",
        "    # inflated people number\n",
        "    CAST(ROUND(SUM((1/observed_market_share) * m_customers * m_quality_transits)) AS INT64) AS new_people\n",
        "    FROM transits t, ex_customers e, ex_transit\n",
        "  LEFT JOIN ex_identifier i\n",
        "    ON i.identifier = t.identifier\n",
        "  GROUP BY\n",
        "    origin_area_code,\n",
        "    destination_area_code,\n",
        "    utc_day,\n",
        "    StretchIdentifier\n",
        "  HAVING\n",
        "    SUM((1/observed_market_share) * m_customers) >= 0\n",
        "\n",
        ")\n",
        "\n",
        "SELECT\n",
        "   n.origin_area_code,\n",
        "   n.StretchIdentifier,\n",
        "   n.destination_area_code,\n",
        "   N.utc_day as date,\n",
        "   '' as transit_start_hour_utc,\n",
        "   '' as transit_end_hour_utc,\n",
        "--   CAST(ROUND(n.customers , 0) AS INT64)     AS customers,\n",
        "--   CAST(ROUND(n.devices  , 0) AS INT64)     AS devices,\n",
        "--   CAST(ROUND(n.people, 0) AS INT64)     AS people,\n",
        "  CAST(ROUND(n.new_people, 0) AS INT64)    AS people\n",
        "\n",
        "FROM ex_transits_num n\n",
        "WHERE --n.people > 5\n",
        " n.new_people > 5"
      ],
      "execution_count": 12,
      "outputs": [
        {
          "output_type": "execute_result",
          "data": {
            "text/html": [
              "<div>\n",
              "<style scoped>\n",
              "    .dataframe tbody tr th:only-of-type {\n",
              "        vertical-align: middle;\n",
              "    }\n",
              "\n",
              "    .dataframe tbody tr th {\n",
              "        vertical-align: top;\n",
              "    }\n",
              "\n",
              "    .dataframe thead th {\n",
              "        text-align: right;\n",
              "    }\n",
              "</style>\n",
              "<table border=\"1\" class=\"dataframe\">\n",
              "  <thead>\n",
              "    <tr style=\"text-align: right;\">\n",
              "      <th></th>\n",
              "    </tr>\n",
              "  </thead>\n",
              "  <tbody>\n",
              "  </tbody>\n",
              "</table>\n",
              "</div>"
            ],
            "text/plain": [
              "Empty DataFrame\n",
              "Columns: []\n",
              "Index: []"
            ]
          },
          "metadata": {
            "tags": []
          },
          "execution_count": 12
        }
      ]
    },
    {
      "cell_type": "markdown",
      "metadata": {
        "id": "rd83bqO6CF12",
        "colab_type": "text"
      },
      "source": [
        "# Via Via"
      ]
    },
    {
      "cell_type": "code",
      "metadata": {
        "id": "oF3KrWIUCI6e",
        "colab_type": "code",
        "colab": {}
      },
      "source": [
        "# 1H Via Via \n",
        "\n",
        "%%bigquery --project=telia-ddi-dk-dev  \n",
        "\n",
        "create or replace table DSB_export.1hourly_wodm_line_mixed_20190801_agg2_via4 as\n",
        "\n",
        "WITH transits AS (\n",
        "  SELECT\n",
        "    t.transit_id,\n",
        "    t.identifier,\n",
        "    go.code AS origin_area_code,\n",
        "    gd.code AS destination_area_code,\n",
        "    vp.StretchIdentifier ,\n",
        "    TIMESTAMP_TRUNC(t.start_time, HOUR) AS transit_start_hour,\n",
        "    DATETIME_TRUNC(t.local_start_time, HOUR) AS transit_local_start_hour,\n",
        "    TIMESTAMP_TRUNC(t.end_time, HOUR) AS transit_end_hour,\n",
        "    DATETIME_TRUNC(t.local_end_time, HOUR) AS transit_local_end_hour\n",
        "  FROM `telia-ddi-dk-prod.mobility_signals.transits_20190801` t\n",
        "  INNER JOIN `telia-ddi-dk-prod.mobility_signals.quality_tiers_20190801` tier ON t.identifier = tier.identifier\n",
        "  INNER JOIN `telia-ddi-dk-dev.david.dk_ltm_mixed`  go ON st_covers(go.geo, t.origin_point)\n",
        "  INNER JOIN `telia-ddi-dk-dev.david.dk_ltm_mixed`  gd ON st_covers(gd.geo, t.destination_point )\n",
        "  INNER JOIN `DSB_export.via_via_points_kit_stretches_A1_v4`  vp \n",
        "    ON ST_INTERSECTS(t.line, vp.ViaLine_o)\n",
        "    AND ST_INTERSECTS(t.line, vp.ViaLine_d)\n",
        "  WHERE tier.rating != \"C\"\n",
        ")\n",
        ", ex_customers AS (\n",
        "  SELECT\n",
        "    (1 / p_observation) * m_cluster_adjuster * m_device_reducer AS m_customers\n",
        "  FROM `telia-ddi-dk-prod.extrapolation.signal_probabilities_day_20190801`\n",
        ")\n",
        ", ex_identifier AS (\n",
        "  SELECT\n",
        "    identifier,\n",
        "    observed_market_share\n",
        "  FROM `telia-ddi-dk-prod.mobility_signals.areas_of_habit_20190801` h\n",
        "  INNER JOIN `telia-ddi-dk-prod.maps.administrative_level_4` ma ON ST_CONTAINS(ma.geo, h.point)\n",
        "  INNER JOIN `telia-ddi-dk-prod.extrapolation.administrative_level_3_baseline_market_share` ms ON ms.admin_level_3_code = ma.admin_level_3_code\n",
        "  WHERE\n",
        "    h.aoh_classification = 'HOME'\n",
        ")\n",
        ", ex_transits_num AS (\n",
        "  SELECT\n",
        "    origin_area_code,\n",
        "    --derived_waypoint_grid_code,\n",
        "    StretchIdentifier ,\n",
        "    destination_area_code,\n",
        "    transit_start_hour,\n",
        "    transit_local_start_hour,\n",
        "    transit_end_hour ,\n",
        "    transit_local_end_hour,\n",
        "    COUNT(*) AS devices,\n",
        "    CAST(ROUND(COUNT(*) * ANY_VALUE(m_customers)) AS INT64) AS customers,\n",
        "    CAST(ROUND(SUM((1/observed_market_share) * m_customers)) AS INT64) AS people\n",
        "  FROM transits t, ex_customers e\n",
        "  LEFT JOIN ex_identifier i\n",
        "    ON i.identifier = t.identifier\n",
        "  GROUP BY\n",
        "    origin_area_code,\n",
        "    --derived_waypoint_grid_code,\n",
        "    destination_area_code,\n",
        "    StretchIdentifier,\n",
        "    transit_start_hour,\n",
        "    transit_local_start_hour,\n",
        "    transit_end_hour,\n",
        "    transit_local_end_hour\n",
        "  HAVING\n",
        "    SUM((1/observed_market_share) * m_customers) >= 0\n",
        ")\n",
        "\n",
        "SELECT\n",
        "   n.origin_area_code,\n",
        "  -- n.derived_waypoint_grid_code,\n",
        "   n.StretchIdentifier,\n",
        "   n.destination_area_code,\n",
        "   n.transit_start_hour,\n",
        "   n.transit_local_start_hour,\n",
        "   n.transit_end_hour,\n",
        "   n.transit_local_end_hour,\n",
        "   --CAST(ROUND(n.devices, 0) AS INT64)    AS devices,\n",
        "   --CAST(ROUND(n.customers, 0) AS INT64)  AS customers,\n",
        "   CAST(ROUND(n.people, 0) AS INT64)     AS people\n",
        "FROM ex_transits_num n\n",
        "WHERE n.people > 5"
      ],
      "execution_count": 0,
      "outputs": []
    },
    {
      "cell_type": "code",
      "metadata": {
        "id": "gB3drY3eGPEa",
        "colab_type": "code",
        "colab": {}
      },
      "source": [
        ""
      ],
      "execution_count": 0,
      "outputs": []
    }
  ]
}